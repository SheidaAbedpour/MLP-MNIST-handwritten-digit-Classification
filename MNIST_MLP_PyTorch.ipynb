{
  "nbformat": 4,
  "nbformat_minor": 0,
  "metadata": {
    "colab": {
      "provenance": [],
      "authorship_tag": "ABX9TyPT+dmN7sJASZBZ5F5katYe"
    },
    "kernelspec": {
      "name": "python3",
      "display_name": "Python 3"
    },
    "language_info": {
      "name": "python"
    }
  },
  "cells": [
    {
      "cell_type": "code",
      "execution_count": 60,
      "metadata": {
        "id": "4Ab4mDmGxBJ3"
      },
      "outputs": [],
      "source": [
        "import numpy as np\n",
        "import pandas as pd\n",
        "\n",
        "import torch\n",
        "import torch.nn as nn\n",
        "\n",
        "import torchvision\n",
        "import torchvision.transforms as transforms\n",
        "import torchvision.datasets as datasets\n",
        "from torch.utils.data import DataLoader\n",
        "from torch.utils.data import random_split\n",
        "\n",
        "from torch.optim.lr_scheduler import ReduceLROnPlateau\n",
        "\n",
        "import tensorboard\n",
        "from torch.utils.tensorboard import SummaryWriter\n",
        "\n",
        "from sklearn.metrics import confusion_matrix\n",
        "\n",
        "import matplotlib.pyplot as plt\n",
        "import seaborn as sns"
      ]
    },
    {
      "cell_type": "code",
      "source": [
        "# Device configuration\n",
        "device = torch.device('cuda' if torch.cuda.is_available() else 'cpu')"
      ],
      "metadata": {
        "id": "V4mRpQELyFUj"
      },
      "execution_count": 61,
      "outputs": []
    },
    {
      "cell_type": "code",
      "source": [
        "# HyperParameters\n",
        "batch_size = 64\n",
        "learning_rate = 0.001\n",
        "num_epochs = 150\n",
        "lambda_reg = 0.0001"
      ],
      "metadata": {
        "id": "ipoYklkYz3rp"
      },
      "execution_count": 62,
      "outputs": []
    },
    {
      "cell_type": "markdown",
      "source": [
        "# Load Dataset MNIST:"
      ],
      "metadata": {
        "id": "6rpOUn95ym9T"
      }
    },
    {
      "cell_type": "code",
      "source": [
        "# MNIS Dataset\n",
        "train_dataset = datasets.MNIST(root='./data',\n",
        "                               train=True,\n",
        "                               transform=transforms.ToTensor(),\n",
        "                               download=True)\n",
        "\n",
        "test_dataset = datasets.MNIST(root='./data',\n",
        "                              train=False,\n",
        "                              transform=transforms.ToTensor(),\n",
        "                              download=True)"
      ],
      "metadata": {
        "id": "x6IWy6Muy0xp"
      },
      "execution_count": 63,
      "outputs": []
    },
    {
      "cell_type": "code",
      "source": [
        "# split train_data to validation and train\n",
        "train_size = int(0.8 * len(train_dataset))\n",
        "validation_size = len(train_dataset) - train_size\n",
        "train_dataset, validation_dataset = random_split(train_dataset, [train_size, validation_size])"
      ],
      "metadata": {
        "id": "-9Ds1v8wK604"
      },
      "execution_count": 64,
      "outputs": []
    },
    {
      "cell_type": "code",
      "source": [
        "# Load Data\n",
        "train_data = DataLoader(dataset=train_dataset,\n",
        "                        batch_size=batch_size,\n",
        "                        shuffle=True)\n",
        "\n",
        "test_data = DataLoader(dataset=test_dataset,\n",
        "                       batch_size=batch_size,\n",
        "                       shuffle=False)\n",
        "\n",
        "validation_data = DataLoader(dataset=validation_dataset,\n",
        "                             batch_size=batch_size,\n",
        "                             shuffle=False)"
      ],
      "metadata": {
        "id": "XIBbgej7y1iE"
      },
      "execution_count": 65,
      "outputs": []
    },
    {
      "cell_type": "code",
      "source": [
        "# iterate trought the dataloader\n",
        "for images, lables in train_data:\n",
        "  print(f'images \"{type(images)}\" shape: {images.shape}\\t,lables \"{type(lables)}\" shape: {lables.shape}')\n",
        "  break\n",
        "\n",
        "\n",
        "'''\n",
        "images: [128, 1, 28, 28]:\n",
        "Batch size: 128 images\n",
        "Channels: 1 (grayscale)\n",
        "Height: 28 pixels\n",
        "Width: 28 pixels\n",
        "'''"
      ],
      "metadata": {
        "colab": {
          "base_uri": "https://localhost:8080/",
          "height": 54
        },
        "id": "TZHjflxQy1ep",
        "outputId": "597249d9-0087-4dad-84ff-0c53aef6a127"
      },
      "execution_count": 66,
      "outputs": [
        {
          "output_type": "stream",
          "name": "stdout",
          "text": [
            "images \"<class 'torch.Tensor'>\" shape: torch.Size([64, 1, 28, 28])\t,lables \"<class 'torch.Tensor'>\" shape: torch.Size([64])\n"
          ]
        },
        {
          "output_type": "execute_result",
          "data": {
            "text/plain": [
              "'\\nimages: [128, 1, 28, 28]:\\nBatch size: 128 images\\nChannels: 1 (grayscale)\\nHeight: 28 pixels\\nWidth: 28 pixels\\n'"
            ],
            "application/vnd.google.colaboratory.intrinsic+json": {
              "type": "string"
            }
          },
          "metadata": {},
          "execution_count": 66
        }
      ]
    },
    {
      "cell_type": "markdown",
      "source": [
        "# Define MLP Architecture"
      ],
      "metadata": {
        "id": "sgEM2YrE4Dd5"
      }
    },
    {
      "cell_type": "code",
      "source": [
        "hidden_sizes = [128, 64, 32]\n",
        "\n",
        "in_features = 28 * 28\n",
        "out_features = 10\n",
        "\n",
        "model = nn.Sequential(\n",
        "    nn.Flatten(),  # images.reshape(-1, 28*28)\n",
        "    nn.Linear(in_features=in_features, out_features=hidden_sizes[0]),\n",
        "    nn.ReLU(),\n",
        "    nn.Linear(in_features=hidden_sizes[0], out_features=hidden_sizes[1]),\n",
        "    nn.Sigmoid(),\n",
        "    nn.Linear(in_features=hidden_sizes[1], out_features=hidden_sizes[2]),\n",
        "    nn.Sigmoid(),\n",
        "    nn.Linear(in_features=hidden_sizes[2], out_features=out_features)\n",
        "    # dont apply softmax becuase we'll use crrosEntropyLoss(it applies itself)\n",
        ")"
      ],
      "metadata": {
        "id": "-XeH0Z5Py1cd"
      },
      "execution_count": 67,
      "outputs": []
    },
    {
      "cell_type": "markdown",
      "source": [
        "# Train MLP"
      ],
      "metadata": {
        "id": "MSw368HX60Ld"
      }
    },
    {
      "cell_type": "code",
      "source": [
        "model = model.to(device)\n",
        "criterion = nn.CrossEntropyLoss()\n",
        "optimizer = torch.optim.Adam(model.parameters(), lr=learning_rate)\n",
        "scheduler = ReduceLROnPlateau(optimizer, mode='min', factor=0.5, patience=2, verbose=True)"
      ],
      "metadata": {
        "colab": {
          "base_uri": "https://localhost:8080/"
        },
        "id": "-_4bDRqH6w70",
        "outputId": "31916d37-4e77-4aed-e280-4103bc17bea3"
      },
      "execution_count": 68,
      "outputs": [
        {
          "output_type": "stream",
          "name": "stderr",
          "text": [
            "/usr/local/lib/python3.10/dist-packages/torch/optim/lr_scheduler.py:28: UserWarning: The verbose parameter is deprecated. Please use get_last_lr() to access the learning rate.\n",
            "  warnings.warn(\"The verbose parameter is deprecated. Please use get_last_lr() \"\n"
          ]
        }
      ]
    },
    {
      "cell_type": "code",
      "source": [
        "num_batches = len(train_data)  # Number of batches in the training DataLoader\n",
        "\n",
        "train_losses = []\n",
        "val_losses = []\n",
        "\n",
        "convergence_threshold = 1e-6\n",
        "best_val_loss = float('inf')\n",
        "patience = 5\n",
        "wait = 0\n",
        "\n",
        "for epoch in range(num_epochs):\n",
        "    model.train()\n",
        "    running_loss = 0.0\n",
        "\n",
        "    for i, (images, labels) in enumerate(train_data):\n",
        "        images, labels = images.to(device), labels.to(device)\n",
        "\n",
        "        # Forward pass\n",
        "        outputs = model(images)\n",
        "\n",
        "        # Compute loss\n",
        "        loss = criterion(outputs, labels)\n",
        "        l2_reg_loss = 0.0\n",
        "        for param in model.parameters():\n",
        "          l2_reg_loss += torch.norm(param)**2\n",
        "        loss += lambda_reg * l2_reg_loss\n",
        "\n",
        "        # Backward pass and optimization\n",
        "        optimizer.zero_grad()\n",
        "        loss.backward()\n",
        "        optimizer.step()\n",
        "\n",
        "        running_loss += loss.item()\n",
        "\n",
        "    # Validation loop\n",
        "    val_loss = 0.0\n",
        "    model.eval()\n",
        "    with torch.no_grad():\n",
        "      for images, labels in validation_data:\n",
        "        images, labels = images.to(device), labels.to(device)\n",
        "\n",
        "        # Forward pass\n",
        "        outputs = model(images)\n",
        "\n",
        "        # Compute loss\n",
        "        loss = criterion(outputs, labels)\n",
        "        val_loss += loss.item()\n",
        "\n",
        "    # check for early stopping\n",
        "    if (val_loss/len(validation_data)) < best_val_loss:\n",
        "      best_val_loss = val_loss/len(validation_data)\n",
        "      wait = 0\n",
        "    else:\n",
        "      if ((val_loss/len(train_data)) - best_val_loss) > 1e-3:\n",
        "        wait += 1\n",
        "      if wait >= patience:\n",
        "        print(f'Early Stopped in epohc{epoch+1}/{num_epochs}')\n",
        "        break\n",
        "\n",
        "    # check for convergence\n",
        "    if epoch > 5:\n",
        "      pre_loss = train_losses[-1]\n",
        "      if np.abs(pre_loss - running_loss) < convergence_threshold:\n",
        "        print(f'Convergence in epoch{epoch}/{num_epochs}')\n",
        "        break\n",
        "\n",
        "    current_lr = optimizer.param_groups[0]['lr']\n",
        "\n",
        "    print(f'Epoch {epoch+1}/{num_epochs}: Training Loss: {running_loss/len(train_data):.4f}, Validation Loss: {val_loss/len(validation_data):.4f}, lr:{current_lr}')\n",
        "    train_losses.append(running_loss)\n",
        "    val_losses.append(val_loss)\n",
        "\n",
        "    # Update the learning rate\n",
        "    scheduler.step(running_loss/len(train_data))\n",
        "\n",
        "print(\"Training finished\")"
      ],
      "metadata": {
        "colab": {
          "base_uri": "https://localhost:8080/"
        },
        "collapsed": true,
        "id": "2o-nnjBf7fLh",
        "outputId": "b90a0672-52a5-4651-837e-1e07a9d05bbd"
      },
      "execution_count": 69,
      "outputs": [
        {
          "output_type": "stream",
          "name": "stdout",
          "text": [
            "Epoch 1/150: Training Loss: 0.9815, Validation Loss: 0.3522, lr:0.001\n",
            "Epoch 2/150: Training Loss: 0.3146, Validation Loss: 0.2123, lr:0.001\n",
            "Epoch 3/150: Training Loss: 0.2295, Validation Loss: 0.1575, lr:0.001\n",
            "Epoch 4/150: Training Loss: 0.1935, Validation Loss: 0.1313, lr:0.001\n",
            "Epoch 5/150: Training Loss: 0.1718, Validation Loss: 0.1242, lr:0.001\n",
            "Epoch 6/150: Training Loss: 0.1586, Validation Loss: 0.1142, lr:0.001\n",
            "Epoch 7/150: Training Loss: 0.1470, Validation Loss: 0.1054, lr:0.001\n",
            "Epoch 8/150: Training Loss: 0.1394, Validation Loss: 0.0994, lr:0.001\n",
            "Epoch 9/150: Training Loss: 0.1340, Validation Loss: 0.1007, lr:0.001\n",
            "Epoch 10/150: Training Loss: 0.1291, Validation Loss: 0.0915, lr:0.001\n",
            "Epoch 11/150: Training Loss: 0.1255, Validation Loss: 0.0965, lr:0.001\n",
            "Epoch 12/150: Training Loss: 0.1224, Validation Loss: 0.0887, lr:0.001\n",
            "Epoch 13/150: Training Loss: 0.1210, Validation Loss: 0.0964, lr:0.001\n",
            "Epoch 14/150: Training Loss: 0.1191, Validation Loss: 0.0914, lr:0.001\n",
            "Epoch 15/150: Training Loss: 0.1170, Validation Loss: 0.0946, lr:0.001\n",
            "Epoch 16/150: Training Loss: 0.1159, Validation Loss: 0.0880, lr:0.001\n",
            "Epoch 17/150: Training Loss: 0.1133, Validation Loss: 0.0882, lr:0.001\n",
            "Epoch 18/150: Training Loss: 0.1149, Validation Loss: 0.0894, lr:0.001\n",
            "Epoch 19/150: Training Loss: 0.1126, Validation Loss: 0.0872, lr:0.001\n",
            "Epoch 20/150: Training Loss: 0.1109, Validation Loss: 0.0864, lr:0.001\n",
            "Epoch 21/150: Training Loss: 0.1118, Validation Loss: 0.0880, lr:0.001\n",
            "Epoch 22/150: Training Loss: 0.1120, Validation Loss: 0.0898, lr:0.001\n",
            "Epoch 23/150: Training Loss: 0.1093, Validation Loss: 0.0854, lr:0.001\n",
            "Epoch 24/150: Training Loss: 0.1090, Validation Loss: 0.0872, lr:0.001\n",
            "Epoch 25/150: Training Loss: 0.1079, Validation Loss: 0.0929, lr:0.001\n",
            "Epoch 26/150: Training Loss: 0.1095, Validation Loss: 0.0933, lr:0.001\n",
            "Epoch 27/150: Training Loss: 0.1067, Validation Loss: 0.0872, lr:0.001\n",
            "Epoch 28/150: Training Loss: 0.1070, Validation Loss: 0.0846, lr:0.001\n",
            "Epoch 29/150: Training Loss: 0.1088, Validation Loss: 0.0869, lr:0.001\n",
            "Epoch 30/150: Training Loss: 0.1068, Validation Loss: 0.0832, lr:0.001\n",
            "Epoch 31/150: Training Loss: 0.0965, Validation Loss: 0.0751, lr:0.0005\n",
            "Epoch 32/150: Training Loss: 0.0931, Validation Loss: 0.0792, lr:0.0005\n",
            "Epoch 33/150: Training Loss: 0.0930, Validation Loss: 0.0773, lr:0.0005\n",
            "Epoch 34/150: Training Loss: 0.0937, Validation Loss: 0.0844, lr:0.0005\n",
            "Epoch 35/150: Training Loss: 0.0929, Validation Loss: 0.0785, lr:0.0005\n",
            "Epoch 36/150: Training Loss: 0.0921, Validation Loss: 0.0791, lr:0.0005\n",
            "Epoch 37/150: Training Loss: 0.0927, Validation Loss: 0.0796, lr:0.0005\n",
            "Epoch 38/150: Training Loss: 0.0930, Validation Loss: 0.0779, lr:0.0005\n",
            "Epoch 39/150: Training Loss: 0.0918, Validation Loss: 0.0775, lr:0.0005\n",
            "Epoch 40/150: Training Loss: 0.0906, Validation Loss: 0.0768, lr:0.0005\n",
            "Epoch 41/150: Training Loss: 0.0920, Validation Loss: 0.0812, lr:0.0005\n",
            "Epoch 42/150: Training Loss: 0.0907, Validation Loss: 0.0771, lr:0.0005\n",
            "Epoch 43/150: Training Loss: 0.0915, Validation Loss: 0.0798, lr:0.0005\n",
            "Epoch 44/150: Training Loss: 0.0868, Validation Loss: 0.0749, lr:0.00025\n",
            "Epoch 45/150: Training Loss: 0.0857, Validation Loss: 0.0731, lr:0.00025\n",
            "Epoch 46/150: Training Loss: 0.0858, Validation Loss: 0.0737, lr:0.00025\n",
            "Epoch 47/150: Training Loss: 0.0857, Validation Loss: 0.0746, lr:0.00025\n",
            "Epoch 48/150: Training Loss: 0.0855, Validation Loss: 0.0737, lr:0.00025\n",
            "Epoch 49/150: Training Loss: 0.0854, Validation Loss: 0.0769, lr:0.00025\n",
            "Epoch 50/150: Training Loss: 0.0854, Validation Loss: 0.0775, lr:0.00025\n",
            "Epoch 51/150: Training Loss: 0.0852, Validation Loss: 0.0743, lr:0.00025\n",
            "Epoch 52/150: Training Loss: 0.0849, Validation Loss: 0.0742, lr:0.00025\n",
            "Epoch 53/150: Training Loss: 0.0849, Validation Loss: 0.0739, lr:0.00025\n",
            "Epoch 54/150: Training Loss: 0.0848, Validation Loss: 0.0778, lr:0.00025\n",
            "Epoch 55/150: Training Loss: 0.0848, Validation Loss: 0.0757, lr:0.00025\n",
            "Epoch 56/150: Training Loss: 0.0848, Validation Loss: 0.0756, lr:0.00025\n",
            "Epoch 57/150: Training Loss: 0.0846, Validation Loss: 0.0745, lr:0.00025\n",
            "Epoch 58/150: Training Loss: 0.0844, Validation Loss: 0.0754, lr:0.00025\n",
            "Epoch 59/150: Training Loss: 0.0845, Validation Loss: 0.0745, lr:0.00025\n",
            "Epoch 60/150: Training Loss: 0.0846, Validation Loss: 0.0745, lr:0.00025\n",
            "Epoch 61/150: Training Loss: 0.0842, Validation Loss: 0.0767, lr:0.00025\n",
            "Epoch 62/150: Training Loss: 0.0842, Validation Loss: 0.0769, lr:0.00025\n",
            "Epoch 63/150: Training Loss: 0.0842, Validation Loss: 0.0741, lr:0.00025\n",
            "Epoch 64/150: Training Loss: 0.0841, Validation Loss: 0.0742, lr:0.00025\n",
            "Epoch 65/150: Training Loss: 0.0840, Validation Loss: 0.0740, lr:0.00025\n",
            "Epoch 66/150: Training Loss: 0.0839, Validation Loss: 0.0739, lr:0.00025\n",
            "Epoch 67/150: Training Loss: 0.0838, Validation Loss: 0.0753, lr:0.00025\n",
            "Epoch 68/150: Training Loss: 0.0839, Validation Loss: 0.0745, lr:0.00025\n",
            "Epoch 69/150: Training Loss: 0.0839, Validation Loss: 0.0764, lr:0.00025\n",
            "Epoch 70/150: Training Loss: 0.0837, Validation Loss: 0.0737, lr:0.00025\n",
            "Epoch 71/150: Training Loss: 0.0836, Validation Loss: 0.0760, lr:0.00025\n",
            "Epoch 72/150: Training Loss: 0.0837, Validation Loss: 0.0759, lr:0.00025\n",
            "Epoch 73/150: Training Loss: 0.0837, Validation Loss: 0.0738, lr:0.00025\n",
            "Epoch 74/150: Training Loss: 0.0834, Validation Loss: 0.0748, lr:0.00025\n",
            "Epoch 75/150: Training Loss: 0.0837, Validation Loss: 0.0763, lr:0.00025\n",
            "Epoch 76/150: Training Loss: 0.0836, Validation Loss: 0.0753, lr:0.00025\n",
            "Epoch 77/150: Training Loss: 0.0836, Validation Loss: 0.0758, lr:0.00025\n",
            "Epoch 78/150: Training Loss: 0.0817, Validation Loss: 0.0728, lr:0.000125\n",
            "Epoch 79/150: Training Loss: 0.0815, Validation Loss: 0.0733, lr:0.000125\n",
            "Epoch 80/150: Training Loss: 0.0815, Validation Loss: 0.0745, lr:0.000125\n",
            "Epoch 81/150: Training Loss: 0.0815, Validation Loss: 0.0735, lr:0.000125\n",
            "Epoch 82/150: Training Loss: 0.0815, Validation Loss: 0.0731, lr:0.000125\n",
            "Epoch 83/150: Training Loss: 0.0814, Validation Loss: 0.0740, lr:0.000125\n",
            "Epoch 84/150: Training Loss: 0.0814, Validation Loss: 0.0750, lr:0.000125\n",
            "Epoch 85/150: Training Loss: 0.0815, Validation Loss: 0.0733, lr:0.000125\n",
            "Epoch 86/150: Training Loss: 0.0813, Validation Loss: 0.0735, lr:0.000125\n",
            "Epoch 87/150: Training Loss: 0.0814, Validation Loss: 0.0734, lr:0.000125\n",
            "Epoch 88/150: Training Loss: 0.0813, Validation Loss: 0.0733, lr:0.000125\n",
            "Epoch 89/150: Training Loss: 0.0813, Validation Loss: 0.0736, lr:0.000125\n",
            "Epoch 90/150: Training Loss: 0.0812, Validation Loss: 0.0744, lr:0.000125\n",
            "Epoch 91/150: Training Loss: 0.0812, Validation Loss: 0.0729, lr:0.000125\n",
            "Epoch 92/150: Training Loss: 0.0811, Validation Loss: 0.0734, lr:0.000125\n",
            "Epoch 93/150: Training Loss: 0.0811, Validation Loss: 0.0737, lr:0.000125\n",
            "Epoch 94/150: Training Loss: 0.0811, Validation Loss: 0.0745, lr:0.000125\n",
            "Epoch 95/150: Training Loss: 0.0812, Validation Loss: 0.0742, lr:0.000125\n",
            "Epoch 96/150: Training Loss: 0.0811, Validation Loss: 0.0745, lr:0.000125\n",
            "Epoch 97/150: Training Loss: 0.0810, Validation Loss: 0.0754, lr:0.000125\n",
            "Epoch 98/150: Training Loss: 0.0811, Validation Loss: 0.0754, lr:0.000125\n",
            "Epoch 99/150: Training Loss: 0.0810, Validation Loss: 0.0738, lr:0.000125\n",
            "Epoch 100/150: Training Loss: 0.0810, Validation Loss: 0.0736, lr:0.000125\n",
            "Epoch 101/150: Training Loss: 0.0810, Validation Loss: 0.0749, lr:0.000125\n",
            "Epoch 102/150: Training Loss: 0.0810, Validation Loss: 0.0747, lr:0.000125\n",
            "Epoch 103/150: Training Loss: 0.0809, Validation Loss: 0.0743, lr:0.000125\n",
            "Epoch 104/150: Training Loss: 0.0809, Validation Loss: 0.0751, lr:0.000125\n",
            "Epoch 105/150: Training Loss: 0.0809, Validation Loss: 0.0742, lr:0.000125\n",
            "Epoch 106/150: Training Loss: 0.0809, Validation Loss: 0.0753, lr:0.000125\n",
            "Epoch 107/150: Training Loss: 0.0809, Validation Loss: 0.0740, lr:0.000125\n",
            "Epoch 108/150: Training Loss: 0.0808, Validation Loss: 0.0737, lr:0.000125\n",
            "Epoch 109/150: Training Loss: 0.0808, Validation Loss: 0.0748, lr:0.000125\n",
            "Epoch 110/150: Training Loss: 0.0808, Validation Loss: 0.0740, lr:0.000125\n",
            "Epoch 111/150: Training Loss: 0.0808, Validation Loss: 0.0738, lr:0.000125\n",
            "Epoch 112/150: Training Loss: 0.0799, Validation Loss: 0.0736, lr:6.25e-05\n",
            "Epoch 113/150: Training Loss: 0.0799, Validation Loss: 0.0732, lr:6.25e-05\n",
            "Epoch 114/150: Training Loss: 0.0798, Validation Loss: 0.0740, lr:6.25e-05\n",
            "Epoch 115/150: Training Loss: 0.0799, Validation Loss: 0.0741, lr:6.25e-05\n",
            "Epoch 116/150: Training Loss: 0.0798, Validation Loss: 0.0738, lr:6.25e-05\n",
            "Epoch 117/150: Training Loss: 0.0799, Validation Loss: 0.0738, lr:6.25e-05\n",
            "Epoch 118/150: Training Loss: 0.0794, Validation Loss: 0.0742, lr:3.125e-05\n",
            "Epoch 119/150: Training Loss: 0.0794, Validation Loss: 0.0733, lr:3.125e-05\n",
            "Epoch 120/150: Training Loss: 0.0794, Validation Loss: 0.0737, lr:3.125e-05\n",
            "Epoch 121/150: Training Loss: 0.0794, Validation Loss: 0.0736, lr:3.125e-05\n",
            "Epoch 122/150: Training Loss: 0.0794, Validation Loss: 0.0739, lr:3.125e-05\n",
            "Epoch 123/150: Training Loss: 0.0794, Validation Loss: 0.0734, lr:3.125e-05\n",
            "Epoch 124/150: Training Loss: 0.0794, Validation Loss: 0.0736, lr:3.125e-05\n",
            "Epoch 125/150: Training Loss: 0.0794, Validation Loss: 0.0737, lr:3.125e-05\n",
            "Epoch 126/150: Training Loss: 0.0794, Validation Loss: 0.0739, lr:3.125e-05\n",
            "Epoch 127/150: Training Loss: 0.0794, Validation Loss: 0.0738, lr:3.125e-05\n",
            "Epoch 128/150: Training Loss: 0.0792, Validation Loss: 0.0737, lr:1.5625e-05\n",
            "Epoch 129/150: Training Loss: 0.0791, Validation Loss: 0.0739, lr:1.5625e-05\n",
            "Epoch 130/150: Training Loss: 0.0791, Validation Loss: 0.0737, lr:1.5625e-05\n",
            "Epoch 131/150: Training Loss: 0.0791, Validation Loss: 0.0739, lr:1.5625e-05\n",
            "Epoch 132/150: Training Loss: 0.0791, Validation Loss: 0.0738, lr:1.5625e-05\n",
            "Epoch 133/150: Training Loss: 0.0791, Validation Loss: 0.0737, lr:1.5625e-05\n",
            "Epoch 134/150: Training Loss: 0.0791, Validation Loss: 0.0738, lr:1.5625e-05\n",
            "Epoch 135/150: Training Loss: 0.0791, Validation Loss: 0.0739, lr:1.5625e-05\n",
            "Epoch 136/150: Training Loss: 0.0791, Validation Loss: 0.0737, lr:1.5625e-05\n",
            "Epoch 137/150: Training Loss: 0.0791, Validation Loss: 0.0737, lr:1.5625e-05\n",
            "Epoch 138/150: Training Loss: 0.0791, Validation Loss: 0.0739, lr:1.5625e-05\n",
            "Epoch 139/150: Training Loss: 0.0790, Validation Loss: 0.0738, lr:7.8125e-06\n",
            "Epoch 140/150: Training Loss: 0.0790, Validation Loss: 0.0739, lr:7.8125e-06\n",
            "Epoch 141/150: Training Loss: 0.0790, Validation Loss: 0.0739, lr:7.8125e-06\n",
            "Epoch 142/150: Training Loss: 0.0790, Validation Loss: 0.0737, lr:7.8125e-06\n",
            "Epoch 143/150: Training Loss: 0.0790, Validation Loss: 0.0738, lr:7.8125e-06\n",
            "Epoch 144/150: Training Loss: 0.0790, Validation Loss: 0.0738, lr:7.8125e-06\n",
            "Epoch 145/150: Training Loss: 0.0790, Validation Loss: 0.0740, lr:7.8125e-06\n",
            "Epoch 146/150: Training Loss: 0.0790, Validation Loss: 0.0738, lr:7.8125e-06\n",
            "Epoch 147/150: Training Loss: 0.0790, Validation Loss: 0.0739, lr:7.8125e-06\n",
            "Epoch 148/150: Training Loss: 0.0790, Validation Loss: 0.0738, lr:7.8125e-06\n",
            "Epoch 149/150: Training Loss: 0.0789, Validation Loss: 0.0738, lr:3.90625e-06\n",
            "Epoch 150/150: Training Loss: 0.0789, Validation Loss: 0.0739, lr:3.90625e-06\n",
            "Training finished\n"
          ]
        }
      ]
    },
    {
      "cell_type": "code",
      "source": [
        "# Plot the training and validation losses with a logarithmic scale\n",
        "plt.plot(train_losses, label='Training Loss')\n",
        "plt.plot(val_losses, label='Validation Loss')\n",
        "plt.xlabel('Epoch')\n",
        "plt.ylabel('Loss')\n",
        "plt.title('Training and Validation Losses')\n",
        "plt.yscale('log')\n",
        "plt.legend()\n",
        "plt.show()"
      ],
      "metadata": {
        "colab": {
          "base_uri": "https://localhost:8080/",
          "height": 472
        },
        "id": "yXhjJIKBNCjy",
        "outputId": "d83086f5-90ac-414b-8d86-f2642ec84fde"
      },
      "execution_count": 70,
      "outputs": [
        {
          "output_type": "display_data",
          "data": {
            "text/plain": [
              "<Figure size 640x480 with 1 Axes>"
            ],
            "image/png": "[encoded data removed]"
          },
          "metadata": {}
        }
      ]
    },
    {
      "cell_type": "code",
      "source": [
        "# Test and Evaluate Model\n",
        "\n",
        "model.eval()\n",
        "\n",
        "true_labels = []\n",
        "predicted_labels = []\n",
        "total = 0\n",
        "correct = 0\n",
        "\n",
        "# Disable gradient calculation for evaluation\n",
        "with torch.no_grad():\n",
        "    for images, lables in test_data:\n",
        "        images, lables = images.to(device), lables.to(device)\n",
        "\n",
        "        # Forward pass\n",
        "        outputs = model(images)\n",
        "\n",
        "        # Get the predicted class\n",
        "        _, predicted = torch.max(outputs, dim=1)\n",
        "\n",
        "        total += lables.shape[0]\n",
        "        correct += (predicted == lables).sum().item()\n",
        "\n",
        "        true_labels.extend(lables.cpu().numpy())\n",
        "        predicted_labels.extend(predicted.cpu().numpy())\n",
        "\n",
        "print(f'Accuracy of the model on the test images: {100 * correct / total} %')"
      ],
      "metadata": {
        "colab": {
          "base_uri": "https://localhost:8080/"
        },
        "id": "20AzGg6QCLJW",
        "outputId": "d749a5e4-98e1-42a6-a4ec-540d3205c12b"
      },
      "execution_count": 71,
      "outputs": [
        {
          "output_type": "stream",
          "name": "stdout",
          "text": [
            "Accuracy of the model on the test images: 97.97 %\n"
          ]
        }
      ]
    },
    {
      "cell_type": "code",
      "source": [
        "# Calculate the confusion matrix\n",
        "cm = confusion_matrix(true_labels, predicted_labels)\n",
        "\n",
        "# Plot the confusion matrix\n",
        "plt.figure(figsize=(10, 8))\n",
        "sns.heatmap(cm, annot=True, fmt='d', cmap='Blues', xticklabels=range(10), yticklabels=range(10))\n",
        "plt.xlabel('Predicted')\n",
        "plt.ylabel('True')\n",
        "plt.title('Confusion Matrix')\n",
        "plt.show()"
      ],
      "metadata": {
        "colab": {
          "base_uri": "https://localhost:8080/",
          "height": 718
        },
        "id": "gRu6c24fCsCt",
        "outputId": "13c9a798-3880-4f53-c972-dff12a3588dd"
      },
      "execution_count": 72,
      "outputs": [
        {
          "output_type": "display_data",
          "data": {
            "text/plain": [
              "<Figure size 1000x800 with 2 Axes>"
            ],
            "image/png": "[encoded data removed]"
          },
          "metadata": {}
        }
      ]
    }
  ]
}