{
  "nbformat": 4,
  "nbformat_minor": 0,
  "metadata": {
    "colab": {
      "provenance": [],
      "authorship_tag": "ABX9TyNCs+XV+NCuIe5aKF8mL7t5",
      "include_colab_link": true
    },
    "kernelspec": {
      "name": "python3",
      "display_name": "Python 3"
    },
    "language_info": {
      "name": "python"
    }
  },
  "cells": [
    {
      "cell_type": "markdown",
      "metadata": {
        "id": "view-in-github",
        "colab_type": "text"
      },
      "source": [
        "<a href=\"https://colab.research.google.com/github/SheidaAbedpour/MNIST-Neural-Networks/blob/main/MNIST_MLP_PyTorch.ipynb\" target=\"_parent\"><img src=\"https://colab.research.google.com/assets/colab-badge.svg\" alt=\"Open In Colab\"/></a>"
      ]
    },
    {
      "cell_type": "code",
      "execution_count": 42,
      "metadata": {
        "id": "4Ab4mDmGxBJ3"
      },
      "outputs": [],
      "source": [
        "import numpy as np\n",
        "import pandas as pd\n",
        "\n",
        "import torch\n",
        "import torch.nn as nn\n",
        "\n",
        "import torchvision\n",
        "import torchvision.transforms as transforms\n",
        "import torchvision.datasets as datasets\n",
        "from torch.utils.data import DataLoader\n",
        "\n",
        "import tensorboard\n",
        "from torch.utils.tensorboard import SummaryWriter\n",
        "\n",
        "from sklearn.metrics import confusion_matrix\n",
        "\n",
        "import matplotlib.pyplot as plt\n",
        "import seaborn as sns"
      ]
    },
    {
      "cell_type": "code",
      "source": [
        "# Device configuration\n",
        "device = torch.device('cuda' if torch.cuda.is_available() else 'cpu')"
      ],
      "metadata": {
        "id": "V4mRpQELyFUj"
      },
      "execution_count": 43,
      "outputs": []
    },
    {
      "cell_type": "code",
      "source": [
        "# HyperParameters\n",
        "batch_size = 128\n",
        "learning_rate = 0.001\n",
        "num_epochs = 10"
      ],
      "metadata": {
        "id": "ipoYklkYz3rp"
      },
      "execution_count": 44,
      "outputs": []
    },
    {
      "cell_type": "markdown",
      "source": [
        "# Load Dataset MNIST:"
      ],
      "metadata": {
        "id": "6rpOUn95ym9T"
      }
    },
    {
      "cell_type": "code",
      "source": [
        "# MNIS Dataset\n",
        "train_dataset = datasets.MNIST(root='./data',\n",
        "                               train=True,\n",
        "                               transform=transforms.ToTensor(),\n",
        "                               download=True)\n",
        "\n",
        "test_dataset = datasets.MNIST(root='./data',\n",
        "                              train=False,\n",
        "                              transform=transforms.ToTensor(),\n",
        "                              download=True)"
      ],
      "metadata": {
        "id": "x6IWy6Muy0xp"
      },
      "execution_count": 45,
      "outputs": []
    },
    {
      "cell_type": "code",
      "source": [
        "# Load Data\n",
        "train_data = DataLoader(dataset=train_dataset,\n",
        "                        batch_size=batch_size,\n",
        "                        shuffle=True)\n",
        "\n",
        "test_data = DataLoader(dataset=test_dataset,\n",
        "                       batch_size=batch_size,\n",
        "                       shuffle=False)"
      ],
      "metadata": {
        "id": "XIBbgej7y1iE"
      },
      "execution_count": 46,
      "outputs": []
    },
    {
      "cell_type": "code",
      "source": [
        "# iterate trought the dataloader\n",
        "for images, lables in train_data:\n",
        "  print(f'images \"{type(images)}\" shape: {images.shape}\\t,lables \"{type(lables)}\" shape: {lables.shape}')\n",
        "  break\n",
        "\n",
        "\n",
        "'''\n",
        "images: [128, 1, 28, 28]:\n",
        "Batch size: 128 images\n",
        "Channels: 1 (grayscale)\n",
        "Height: 28 pixels\n",
        "Width: 28 pixels\n",
        "'''"
      ],
      "metadata": {
        "colab": {
          "base_uri": "https://localhost:8080/",
          "height": 54
        },
        "id": "TZHjflxQy1ep",
        "outputId": "43a66723-eff3-4020-9dc8-f4021e82cc36"
      },
      "execution_count": 47,
      "outputs": [
        {
          "output_type": "stream",
          "name": "stdout",
          "text": [
            "images \"<class 'torch.Tensor'>\" shape: torch.Size([128, 1, 28, 28])\t,lables \"<class 'torch.Tensor'>\" shape: torch.Size([128])\n"
          ]
        },
        {
          "output_type": "execute_result",
          "data": {
            "text/plain": [
              "'\\nimages: [128, 1, 28, 28]:\\nBatch size: 128 images\\nChannels: 1 (grayscale)\\nHeight: 28 pixels\\nWidth: 28 pixels\\n'"
            ],
            "application/vnd.google.colaboratory.intrinsic+json": {
              "type": "string"
            }
          },
          "metadata": {},
          "execution_count": 47
        }
      ]
    },
    {
      "cell_type": "markdown",
      "source": [
        "# Define MLP Architecture"
      ],
      "metadata": {
        "id": "sgEM2YrE4Dd5"
      }
    },
    {
      "cell_type": "code",
      "source": [
        "hidden_sizes = [128, 64, 32]\n",
        "\n",
        "in_features = 28 * 28\n",
        "out_features = 10\n",
        "\n",
        "model = nn.Sequential(\n",
        "    nn.Flatten(),  # images.reshape(-1, 28*28)\n",
        "    nn.Linear(in_features=in_features, out_features=hidden_sizes[0]),\n",
        "    nn.ReLU(),\n",
        "    nn.Linear(in_features=hidden_sizes[0], out_features=hidden_sizes[1]),\n",
        "    nn.Sigmoid(),\n",
        "    nn.Linear(in_features=hidden_sizes[1], out_features=hidden_sizes[2]),\n",
        "    nn.Sigmoid(),\n",
        "    nn.Linear(in_features=hidden_sizes[2], out_features=out_features)\n",
        "    # dont apply softmax becuase we'll use crrosEntropyLoss(it applies itself)\n",
        ")"
      ],
      "metadata": {
        "id": "-XeH0Z5Py1cd"
      },
      "execution_count": 48,
      "outputs": []
    },
    {
      "cell_type": "markdown",
      "source": [
        "# Train MLP"
      ],
      "metadata": {
        "id": "MSw368HX60Ld"
      }
    },
    {
      "cell_type": "code",
      "source": [
        "model = model.to(device)\n",
        "criterion = nn.CrossEntropyLoss()\n",
        "optimizer = torch.optim.Adam(model.parameters(), lr=learning_rate)"
      ],
      "metadata": {
        "id": "-_4bDRqH6w70"
      },
      "execution_count": 49,
      "outputs": []
    },
    {
      "cell_type": "code",
      "source": [
        "num_batches = len(train_data)  # train_samples/batch_size\n",
        "\n",
        "\n",
        "for epoch in range(num_epochs):\n",
        "  for i, (images, lables) in enumerate(train_data):\n",
        "    images, lables = images.to(device), lables.to(device)\n",
        "\n",
        "    # forward\n",
        "    outputs = model(images)\n",
        "\n",
        "    # compute loss\n",
        "    loss = criterion(outputs, lables)\n",
        "\n",
        "    # backward\n",
        "    optimizer.zero_grad()\n",
        "    loss.backward()\n",
        "    optimizer.step()\n",
        "\n",
        "\n",
        "    if (i + 1) % 100 == 0:\n",
        "      print(f'epoch{epoch+1}/{num_epochs}, batch{i+1}/{num_batches}, loss:{loss.item():.4f}')\n",
        "\n",
        "print(\"training finished\")"
      ],
      "metadata": {
        "colab": {
          "base_uri": "https://localhost:8080/"
        },
        "collapsed": true,
        "id": "2o-nnjBf7fLh",
        "outputId": "f514a974-4226-4624-d30b-d71aeecb7945"
      },
      "execution_count": 50,
      "outputs": [
        {
          "output_type": "stream",
          "name": "stdout",
          "text": [
            "epoch1/10, batch100/469, loss:1.7193\n",
            "epoch1/10, batch200/469, loss:1.2823\n",
            "epoch1/10, batch300/469, loss:0.7589\n",
            "epoch1/10, batch400/469, loss:0.5982\n",
            "epoch2/10, batch100/469, loss:0.4010\n",
            "epoch2/10, batch200/469, loss:0.3384\n",
            "epoch2/10, batch300/469, loss:0.3065\n",
            "epoch2/10, batch400/469, loss:0.2932\n",
            "epoch3/10, batch100/469, loss:0.2568\n",
            "epoch3/10, batch200/469, loss:0.2519\n",
            "epoch3/10, batch300/469, loss:0.2007\n",
            "epoch3/10, batch400/469, loss:0.1281\n",
            "epoch4/10, batch100/469, loss:0.1647\n",
            "epoch4/10, batch200/469, loss:0.1139\n",
            "epoch4/10, batch300/469, loss:0.0880\n",
            "epoch4/10, batch400/469, loss:0.1638\n",
            "epoch5/10, batch100/469, loss:0.1264\n",
            "epoch5/10, batch200/469, loss:0.0686\n",
            "epoch5/10, batch300/469, loss:0.1090\n",
            "epoch5/10, batch400/469, loss:0.2387\n",
            "epoch6/10, batch100/469, loss:0.0276\n",
            "epoch6/10, batch200/469, loss:0.0859\n",
            "epoch6/10, batch300/469, loss:0.0652\n",
            "epoch6/10, batch400/469, loss:0.0623\n",
            "epoch7/10, batch100/469, loss:0.0596\n",
            "epoch7/10, batch200/469, loss:0.0659\n",
            "epoch7/10, batch300/469, loss:0.0177\n",
            "epoch7/10, batch400/469, loss:0.0203\n",
            "epoch8/10, batch100/469, loss:0.0850\n",
            "epoch8/10, batch200/469, loss:0.0714\n",
            "epoch8/10, batch300/469, loss:0.0264\n",
            "epoch8/10, batch400/469, loss:0.0324\n",
            "epoch9/10, batch100/469, loss:0.0598\n",
            "epoch9/10, batch200/469, loss:0.0222\n",
            "epoch9/10, batch300/469, loss:0.0490\n",
            "epoch9/10, batch400/469, loss:0.0471\n",
            "epoch10/10, batch100/469, loss:0.0427\n",
            "epoch10/10, batch200/469, loss:0.0766\n",
            "epoch10/10, batch300/469, loss:0.0510\n",
            "epoch10/10, batch400/469, loss:0.0169\n",
            "training finished\n"
          ]
        }
      ]
    },
    {
      "cell_type": "code",
      "source": [
        "# Test and Evaluate Model\n",
        "\n",
        "model.eval()\n",
        "\n",
        "true_labels = []\n",
        "predicted_labels = []\n",
        "total = 0\n",
        "correct = 0\n",
        "\n",
        "# Disable gradient calculation for evaluation\n",
        "with torch.no_grad():\n",
        "    for images, lables in test_data:\n",
        "        images, lables = images.to(device), lables.to(device)\n",
        "\n",
        "        # Forward pass\n",
        "        outputs = model(images)\n",
        "\n",
        "        # Get the predicted class\n",
        "        _, predicted = torch.max(outputs, dim=1)\n",
        "\n",
        "        total += lables.shape[0]\n",
        "        correct += (predicted == lables).sum().item()\n",
        "\n",
        "        true_labels.extend(lables.cpu().numpy())\n",
        "        predicted_labels.extend(predicted.cpu().numpy())\n",
        "\n",
        "print(f'Accuracy of the model on the test images: {100 * correct / total} %')"
      ],
      "metadata": {
        "colab": {
          "base_uri": "https://localhost:8080/"
        },
        "id": "20AzGg6QCLJW",
        "outputId": "fb7a9c40-07f4-4008-ac0e-e1e758902f6c"
      },
      "execution_count": 51,
      "outputs": [
        {
          "output_type": "stream",
          "name": "stdout",
          "text": [
            "Accuracy of the model on the test images: 97.46 %\n"
          ]
        }
      ]
    },
    {
      "cell_type": "code",
      "source": [
        "# Calculate the confusion matrix\n",
        "cm = confusion_matrix(true_labels, predicted_labels)\n",
        "\n",
        "# Plot the confusion matrix\n",
        "plt.figure(figsize=(10, 8))\n",
        "sns.heatmap(cm, annot=True, fmt='d', cmap='Blues', xticklabels=range(10), yticklabels=range(10))\n",
        "plt.xlabel('Predicted')\n",
        "plt.ylabel('True')\n",
        "plt.title('Confusion Matrix')\n",
        "plt.show()"
      ],
      "metadata": {
        "colab": {
          "base_uri": "https://localhost:8080/",
          "height": 718
        },
        "id": "gRu6c24fCsCt",
        "outputId": "8fdef1f1-3e2d-4a6c-e443-23b31c194b7c"
      },
      "execution_count": 52,
      "outputs": [
        {
          "output_type": "display_data",
          "data": {
            "text/plain": [
              "<Figure size 1000x800 with 2 Axes>"
            ],
            "image/png": "[encoded data removed]"
          },
          "metadata": {}
        }
      ]
    }
  ]
}