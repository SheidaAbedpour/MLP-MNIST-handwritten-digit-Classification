{
  "nbformat": 4,
  "nbformat_minor": 0,
  "metadata": {
    "colab": {
      "provenance": [],
      "authorship_tag": "ABX9TyOEO3cTWEjmJW8wCMtSImfB"
    },
    "kernelspec": {
      "name": "python3",
      "display_name": "Python 3"
    },
    "language_info": {
      "name": "python"
    }
  },
  "cells": [
    {
      "cell_type": "code",
      "execution_count": 22,
      "metadata": {
        "id": "EQX2j2iuQGvG"
      },
      "outputs": [],
      "source": [
        "import numpy as np\n",
        "import pandas as pd\n",
        "\n",
        "import tensorflow as tf\n",
        "\n",
        "import torch\n",
        "import torchvision\n",
        "import torchvision.transforms as transforms\n",
        "import torch.nn as nn\n",
        "import torch.optim as optim\n",
        "\n",
        "from sklearn.model_selection import KFold\n",
        "from sklearn.metrics import confusion_matrix\n",
        "from sklearn.model_selection import train_test_split\n",
        "\n",
        "import matplotlib.pyplot as plt\n",
        "import seaborn as sns\n"
      ]
    },
    {
      "cell_type": "code",
      "source": [
        "mnist_dataset = tf.keras.datasets.mnist\n",
        "(x_train, y_train), (x_test, y_test) = mnist_dataset.load_data()\n",
        "\n",
        "print(f'x_train: shape {x_train.shape}, type {type(x_train)}')\n",
        "print(f'y_train: shape {y_train.shape}, type {type(y_train)}')\n",
        "print(f'x_test: shape {x_test.shape}, type {type(x_test)}')\n",
        "print(f'y_test: shape {y_test.shape}, type {type(y_test)}')"
      ],
      "metadata": {
        "colab": {
          "base_uri": "https://localhost:8080/"
        },
        "id": "5Yc5Oc_fQ8Nr",
        "outputId": "9d894718-16b0-4ea3-adde-6dd721dc911b"
      },
      "execution_count": 23,
      "outputs": [
        {
          "output_type": "stream",
          "name": "stdout",
          "text": [
            "x_train: shape (60000, 28, 28), type <class 'numpy.ndarray'>\n",
            "y_train: shape (60000,), type <class 'numpy.ndarray'>\n",
            "x_test: shape (10000, 28, 28), type <class 'numpy.ndarray'>\n",
            "y_test: shape (10000,), type <class 'numpy.ndarray'>\n"
          ]
        }
      ]
    },
    {
      "cell_type": "code",
      "source": [
        "# flatten x\n",
        "def flatten_data(x):\n",
        "  axis0, axis1, axis2 = x.shape\n",
        "  return x.reshape(axis0, axis1 * axis2)\n",
        "\n",
        "x_train = flatten_data(x_train)\n",
        "x_test = flatten_data(x_test)\n",
        "\n",
        "# y_train = y_train.reshape(-1, 1)\n",
        "# y_test = y_test.reshape(-1, 1)\n",
        "\n",
        "print(f'x_train shape: {x_train.shape}')\n",
        "print(f'x_test shape: {x_test.shape}')\n",
        "print(f'y_train shape: {y_train.shape}')\n",
        "print(f'y_test shape: {y_test.shape}')"
      ],
      "metadata": {
        "colab": {
          "base_uri": "https://localhost:8080/"
        },
        "id": "AFqY16nbQ8Kc",
        "outputId": "e50855ab-16fd-4ca4-d6b9-905677760f46"
      },
      "execution_count": 24,
      "outputs": [
        {
          "output_type": "stream",
          "name": "stdout",
          "text": [
            "x_train shape: (60000, 784)\n",
            "x_test shape: (10000, 784)\n",
            "y_train shape: (60000,)\n",
            "y_test shape: (10000,)\n"
          ]
        }
      ]
    },
    {
      "cell_type": "code",
      "source": [
        "# normalize\n",
        "gray_scale = 255.0\n",
        "\n",
        "x_train = x_train.astype('float32') / gray_scale\n",
        "x_test = x_test.astype('float32') / gray_scale\n",
        "\n",
        "# print(x_train[0])"
      ],
      "metadata": {
        "id": "DQQ8Jq6mQ8IJ"
      },
      "execution_count": 25,
      "outputs": []
    },
    {
      "cell_type": "code",
      "source": [
        "device = torch.device(\"cuda\" if torch.cuda.is_available() else \"cpu\")\n",
        "\n",
        "# Convert numpy arrays to PyTorch tensors\n",
        "x_train_tensor = torch.tensor(x_train, dtype=torch.float32)\n",
        "y_train_tensor = torch.tensor(y_train, dtype=torch.long)\n",
        "x_test_tensor = torch.tensor(x_test, dtype=torch.float32)\n",
        "y_test_tensor = torch.tensor(y_test, dtype=torch.long)"
      ],
      "metadata": {
        "id": "F4KCT8wnQ8BP"
      },
      "execution_count": 26,
      "outputs": []
    },
    {
      "cell_type": "code",
      "source": [
        "# Define the neural network architecture\n",
        "hidden_sizes = [128, 64, 32]\n",
        "n_categories = 10\n",
        "\n",
        "model = nn.Sequential(\n",
        "    nn.Linear(in_features=x_train.shape[1], out_features=hidden_sizes[0]),\n",
        "    nn.ReLU(),\n",
        "    nn.Linear(in_features=hidden_sizes[0], out_features=hidden_sizes[1]),\n",
        "    nn.Sigmoid(),\n",
        "    nn.Linear(in_features=hidden_sizes[1], out_features=hidden_sizes[2]),\n",
        "    nn.ReLU(),\n",
        "    nn.Linear(in_features=hidden_sizes[2], out_features=n_categories),\n",
        "    nn.LogSoftmax(dim=1)\n",
        ")\n",
        "\n",
        "# Define the loss function and optimizer\n",
        "criterion = nn.NLLLoss()\n",
        "optimizer = optim.SGD(model.parameters(), lr=0.01, momentum=0.9)\n"
      ],
      "metadata": {
        "id": "DmJty49GQ7_J"
      },
      "execution_count": 27,
      "outputs": []
    },
    {
      "cell_type": "code",
      "source": [
        "# Training loop\n",
        "epochs = 10\n",
        "batch_size = 64\n",
        "for epoch in range(epochs):\n",
        "    permutation = torch.randperm(x_train_tensor.size()[0])\n",
        "    running_loss = 0.0\n",
        "    print(f'Epoch {epoch + 1}:', end=' ')\n",
        "    for i in range(0, x_train_tensor.size()[0], batch_size):\n",
        "        indices = permutation[i:i + batch_size]\n",
        "        batch_x, batch_y = x_train_tensor[indices], y_train_tensor[indices]\n",
        "\n",
        "        # Zero the parameter gradients\n",
        "        optimizer.zero_grad()\n",
        "\n",
        "        # Forward + backward + optimize\n",
        "        outputs = model(batch_x)\n",
        "        loss = criterion(outputs, batch_y)\n",
        "        loss.backward()\n",
        "        optimizer.step()\n",
        "\n",
        "        running_loss += loss.item()\n",
        "        if i // batch_size % 100 == 99:\n",
        "            print(f'Batch {i // batch_size + 1} loss: {running_loss / 100:.3f}', end=' ')\n",
        "            running_loss = 0.0\n",
        "    print()  # Newline at the end of each epoch\n",
        "\n",
        "print('Finished Training')\n"
      ],
      "metadata": {
        "colab": {
          "base_uri": "https://localhost:8080/"
        },
        "id": "Wy5WWMalQ76o",
        "outputId": "9546094d-66b0-4999-e0f4-204cc46f4894"
      },
      "execution_count": 28,
      "outputs": [
        {
          "output_type": "stream",
          "name": "stdout",
          "text": [
            "Epoch 1: Batch 100 loss: 2.304 Batch 200 loss: 2.292 Batch 300 loss: 2.266 Batch 400 loss: 2.073 Batch 500 loss: 1.625 Batch 600 loss: 1.146 Batch 700 loss: 0.791 Batch 800 loss: 0.686 Batch 900 loss: 0.638 \n",
            "Epoch 2: Batch 100 loss: 0.544 Batch 200 loss: 0.495 Batch 300 loss: 0.495 Batch 400 loss: 0.427 Batch 500 loss: 0.414 Batch 600 loss: 0.381 Batch 700 loss: 0.353 Batch 800 loss: 0.336 Batch 900 loss: 0.319 \n",
            "Epoch 3: Batch 100 loss: 0.283 Batch 200 loss: 0.282 Batch 300 loss: 0.270 Batch 400 loss: 0.232 Batch 500 loss: 0.225 Batch 600 loss: 0.216 Batch 700 loss: 0.211 Batch 800 loss: 0.213 Batch 900 loss: 0.213 \n",
            "Epoch 4: Batch 100 loss: 0.196 Batch 200 loss: 0.178 Batch 300 loss: 0.174 Batch 400 loss: 0.170 Batch 500 loss: 0.164 Batch 600 loss: 0.173 Batch 700 loss: 0.151 Batch 800 loss: 0.165 Batch 900 loss: 0.148 \n",
            "Epoch 5: Batch 100 loss: 0.138 Batch 200 loss: 0.128 Batch 300 loss: 0.132 Batch 400 loss: 0.131 Batch 500 loss: 0.129 Batch 600 loss: 0.139 Batch 700 loss: 0.126 Batch 800 loss: 0.119 Batch 900 loss: 0.128 \n",
            "Epoch 6: Batch 100 loss: 0.116 Batch 200 loss: 0.103 Batch 300 loss: 0.106 Batch 400 loss: 0.106 Batch 500 loss: 0.106 Batch 600 loss: 0.099 Batch 700 loss: 0.103 Batch 800 loss: 0.109 Batch 900 loss: 0.107 \n",
            "Epoch 7: Batch 100 loss: 0.084 Batch 200 loss: 0.082 Batch 300 loss: 0.079 Batch 400 loss: 0.089 Batch 500 loss: 0.103 Batch 600 loss: 0.091 Batch 700 loss: 0.090 Batch 800 loss: 0.087 Batch 900 loss: 0.110 \n",
            "Epoch 8: Batch 100 loss: 0.076 Batch 200 loss: 0.083 Batch 300 loss: 0.085 Batch 400 loss: 0.071 Batch 500 loss: 0.062 Batch 600 loss: 0.065 Batch 700 loss: 0.083 Batch 800 loss: 0.085 Batch 900 loss: 0.072 \n",
            "Epoch 9: Batch 100 loss: 0.067 Batch 200 loss: 0.063 Batch 300 loss: 0.064 Batch 400 loss: 0.078 Batch 500 loss: 0.061 Batch 600 loss: 0.062 Batch 700 loss: 0.069 Batch 800 loss: 0.062 Batch 900 loss: 0.072 \n",
            "Epoch 10: Batch 100 loss: 0.049 Batch 200 loss: 0.058 Batch 300 loss: 0.051 Batch 400 loss: 0.059 Batch 500 loss: 0.062 Batch 600 loss: 0.063 Batch 700 loss: 0.061 Batch 800 loss: 0.059 Batch 900 loss: 0.050 \n",
            "Finished Training\n"
          ]
        }
      ]
    },
    {
      "cell_type": "code",
      "source": [
        "# Test the model\n",
        "correct = 0\n",
        "total = 0\n",
        "all_preds = []\n",
        "with torch.no_grad():\n",
        "    outputs = model(x_test_tensor)\n",
        "    _, predicted = torch.max(outputs.data, 1)\n",
        "    total += y_test_tensor.size(0)\n",
        "    correct += (predicted == y_test_tensor).sum().item()\n",
        "    all_preds = predicted.numpy()\n",
        "\n",
        "print(f'Accuracy of the network on the 10000 test images: {100 * correct / total:.2f}%')\n",
        "\n",
        "# Calculate the confusion\n"
      ],
      "metadata": {
        "id": "8Y0GBbi1eisR",
        "colab": {
          "base_uri": "https://localhost:8080/"
        },
        "outputId": "48bc2f60-2edf-4ffa-89f9-25ef5a4ac92b"
      },
      "execution_count": 32,
      "outputs": [
        {
          "output_type": "stream",
          "name": "stdout",
          "text": [
            "Accuracy of the network on the 10000 test images: 97.12%\n"
          ]
        }
      ]
    },
    {
      "cell_type": "code",
      "source": [
        "# Calculate the confusion matrix\n",
        "cm = confusion_matrix(y_test, all_preds)\n",
        "\n",
        "# Plot the confusion matrix\n",
        "plt.figure(figsize=(10, 8))\n",
        "sns.heatmap(cm, annot=True, fmt='d', cmap='Blues', xticklabels=range(10), yticklabels=range(10))\n",
        "plt.xlabel('Predicted')\n",
        "plt.ylabel('True')\n",
        "plt.title('Confusion Matrix')\n",
        "plt.show()"
      ],
      "metadata": {
        "id": "APnzEYYOgHuD",
        "colab": {
          "base_uri": "https://localhost:8080/",
          "height": 718
        },
        "outputId": "92a1f467-6694-47f5-d6b6-72bdde1d11b6"
      },
      "execution_count": 33,
      "outputs": [
        {
          "output_type": "display_data",
          "data": {
            "text/plain": [
              "<Figure size 1000x800 with 2 Axes>"
            ],
            "image/png": "[encoded data removed]"
          },
          "metadata": {}
        }
      ]
    },
    {
      "cell_type": "code",
      "source": [
        "# Save the trained model\n",
        "torch.save(model.state_dict(), './mnist_net.pth')"
      ],
      "metadata": {
        "id": "mSUO1cuyQ74o"
      },
      "execution_count": 31,
      "outputs": []
    },
    {
      "cell_type": "code",
      "source": [],
      "metadata": {
        "id": "ymFN4KlfQ72V"
      },
      "execution_count": 31,
      "outputs": []
    },
    {
      "cell_type": "code",
      "source": [],
      "metadata": {
        "id": "y4hiyB5uQ7xR"
      },
      "execution_count": 31,
      "outputs": []
    },
    {
      "cell_type": "code",
      "source": [],
      "metadata": {
        "id": "YPquPJyNQ7t4"
      },
      "execution_count": 31,
      "outputs": []
    },
    {
      "cell_type": "code",
      "source": [],
      "metadata": {
        "id": "SVrropF7Q7n-"
      },
      "execution_count": 31,
      "outputs": []
    }
  ]
}