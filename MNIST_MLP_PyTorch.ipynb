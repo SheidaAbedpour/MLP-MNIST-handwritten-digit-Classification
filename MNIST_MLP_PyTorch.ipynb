{
  "nbformat": 4,
  "nbformat_minor": 0,
  "metadata": {
    "colab": {
      "provenance": [],
      "gpuType": "T4",
      "authorship_tag": "ABX9TyPT+dmN7sJASZBZ5F5katYe",
      "include_colab_link": true
    },
    "kernelspec": {
      "name": "python3",
      "display_name": "Python 3"
    },
    "language_info": {
      "name": "python"
    },
    "accelerator": "GPU"
  },
  "cells": [
    {
      "cell_type": "markdown",
      "metadata": {
        "id": "view-in-github",
        "colab_type": "text"
      },
      "source": [
        "<a href=\"https://colab.research.google.com/github/SheidaAbedpour/MNIST-Neural-Networks/blob/main/MNIST_MLP_PyTorch.ipynb\" target=\"_parent\"><img src=\"https://colab.research.google.com/assets/colab-badge.svg\" alt=\"Open In Colab\"/></a>"
      ]
    },
    {
      "cell_type": "code",
      "execution_count": 1,
      "metadata": {
        "id": "4Ab4mDmGxBJ3"
      },
      "outputs": [],
      "source": [
        "import numpy as np\n",
        "import pandas as pd\n",
        "\n",
        "import torch\n",
        "import torch.nn as nn\n",
        "\n",
        "import torchvision\n",
        "import torchvision.transforms as transforms\n",
        "import torchvision.datasets as datasets\n",
        "from torch.utils.data import DataLoader\n",
        "from torch.utils.data import random_split\n",
        "\n",
        "from torch.optim.lr_scheduler import ReduceLROnPlateau\n",
        "\n",
        "import tensorboard\n",
        "from torch.utils.tensorboard import SummaryWriter\n",
        "\n",
        "from sklearn.metrics import confusion_matrix\n",
        "\n",
        "import matplotlib.pyplot as plt\n",
        "import seaborn as sns"
      ]
    },
    {
      "cell_type": "code",
      "source": [
        "# Device configuration\n",
        "device = torch.device('cuda' if torch.cuda.is_available() else 'cpu')"
      ],
      "metadata": {
        "id": "V4mRpQELyFUj"
      },
      "execution_count": 2,
      "outputs": []
    },
    {
      "cell_type": "code",
      "source": [
        "# HyperParameters\n",
        "batch_size = 64\n",
        "learning_rate = 0.001\n",
        "num_epochs = 150\n",
        "lambda_reg = 0.0001"
      ],
      "metadata": {
        "id": "ipoYklkYz3rp"
      },
      "execution_count": 3,
      "outputs": []
    },
    {
      "cell_type": "markdown",
      "source": [
        "# Load Dataset MNIST:"
      ],
      "metadata": {
        "id": "6rpOUn95ym9T"
      }
    },
    {
      "cell_type": "code",
      "source": [
        "# MNIS Dataset\n",
        "train_dataset = datasets.MNIST(root='./data',\n",
        "                               train=True,\n",
        "                               transform=transforms.ToTensor(),\n",
        "                               download=True)\n",
        "\n",
        "test_dataset = datasets.MNIST(root='./data',\n",
        "                              train=False,\n",
        "                              transform=transforms.ToTensor(),\n",
        "                              download=True)"
      ],
      "metadata": {
        "colab": {
          "base_uri": "https://localhost:8080/"
        },
        "id": "x6IWy6Muy0xp",
        "outputId": "c3e04d50-60b2-47d0-e962-0e82d7904880"
      },
      "execution_count": 4,
      "outputs": [
        {
          "output_type": "stream",
          "name": "stdout",
          "text": [
            "Downloading http://yann.lecun.com/exdb/mnist/train-images-idx3-ubyte.gz\n",
            "Failed to download (trying next):\n",
            "HTTP Error 403: Forbidden\n",
            "\n",
            "Downloading https://ossci-datasets.s3.amazonaws.com/mnist/train-images-idx3-ubyte.gz\n",
            "Downloading https://ossci-datasets.s3.amazonaws.com/mnist/train-images-idx3-ubyte.gz to ./data/MNIST/raw/train-images-idx3-ubyte.gz\n"
          ]
        },
        {
          "output_type": "stream",
          "name": "stderr",
          "text": [
            "100%|██████████| 9912422/9912422 [00:00<00:00, 34783443.82it/s]\n"
          ]
        },
        {
          "output_type": "stream",
          "name": "stdout",
          "text": [
            "Extracting ./data/MNIST/raw/train-images-idx3-ubyte.gz to ./data/MNIST/raw\n",
            "\n",
            "Downloading http://yann.lecun.com/exdb/mnist/train-labels-idx1-ubyte.gz\n",
            "Failed to download (trying next):\n",
            "HTTP Error 403: Forbidden\n",
            "\n",
            "Downloading https://ossci-datasets.s3.amazonaws.com/mnist/train-labels-idx1-ubyte.gz\n",
            "Downloading https://ossci-datasets.s3.amazonaws.com/mnist/train-labels-idx1-ubyte.gz to ./data/MNIST/raw/train-labels-idx1-ubyte.gz\n"
          ]
        },
        {
          "output_type": "stream",
          "name": "stderr",
          "text": [
            "100%|██████████| 28881/28881 [00:00<00:00, 1076216.44it/s]\n"
          ]
        },
        {
          "output_type": "stream",
          "name": "stdout",
          "text": [
            "Extracting ./data/MNIST/raw/train-labels-idx1-ubyte.gz to ./data/MNIST/raw\n",
            "\n",
            "Downloading http://yann.lecun.com/exdb/mnist/t10k-images-idx3-ubyte.gz\n",
            "Failed to download (trying next):\n",
            "HTTP Error 403: Forbidden\n",
            "\n",
            "Downloading https://ossci-datasets.s3.amazonaws.com/mnist/t10k-images-idx3-ubyte.gz\n",
            "Downloading https://ossci-datasets.s3.amazonaws.com/mnist/t10k-images-idx3-ubyte.gz to ./data/MNIST/raw/t10k-images-idx3-ubyte.gz\n"
          ]
        },
        {
          "output_type": "stream",
          "name": "stderr",
          "text": [
            "100%|██████████| 1648877/1648877 [00:00<00:00, 9690370.42it/s]\n"
          ]
        },
        {
          "output_type": "stream",
          "name": "stdout",
          "text": [
            "Extracting ./data/MNIST/raw/t10k-images-idx3-ubyte.gz to ./data/MNIST/raw\n",
            "\n",
            "Downloading http://yann.lecun.com/exdb/mnist/t10k-labels-idx1-ubyte.gz\n",
            "Failed to download (trying next):\n",
            "HTTP Error 403: Forbidden\n",
            "\n",
            "Downloading https://ossci-datasets.s3.amazonaws.com/mnist/t10k-labels-idx1-ubyte.gz\n",
            "Downloading https://ossci-datasets.s3.amazonaws.com/mnist/t10k-labels-idx1-ubyte.gz to ./data/MNIST/raw/t10k-labels-idx1-ubyte.gz\n"
          ]
        },
        {
          "output_type": "stream",
          "name": "stderr",
          "text": [
            "100%|██████████| 4542/4542 [00:00<00:00, 9389122.11it/s]"
          ]
        },
        {
          "output_type": "stream",
          "name": "stdout",
          "text": [
            "Extracting ./data/MNIST/raw/t10k-labels-idx1-ubyte.gz to ./data/MNIST/raw\n",
            "\n"
          ]
        },
        {
          "output_type": "stream",
          "name": "stderr",
          "text": [
            "\n"
          ]
        }
      ]
    },
    {
      "cell_type": "code",
      "source": [
        "# split train_data to validation and train\n",
        "train_size = int(0.8 * len(train_dataset))\n",
        "validation_size = len(train_dataset) - train_size\n",
        "train_dataset, validation_dataset = random_split(train_dataset, [train_size, validation_size])"
      ],
      "metadata": {
        "id": "-9Ds1v8wK604"
      },
      "execution_count": 5,
      "outputs": []
    },
    {
      "cell_type": "code",
      "source": [
        "# Load Data\n",
        "train_data = DataLoader(dataset=train_dataset,\n",
        "                        batch_size=batch_size,\n",
        "                        shuffle=True)\n",
        "\n",
        "test_data = DataLoader(dataset=test_dataset,\n",
        "                       batch_size=batch_size,\n",
        "                       shuffle=False)\n",
        "\n",
        "validation_data = DataLoader(dataset=validation_dataset,\n",
        "                             batch_size=batch_size,\n",
        "                             shuffle=False)"
      ],
      "metadata": {
        "id": "XIBbgej7y1iE"
      },
      "execution_count": 6,
      "outputs": []
    },
    {
      "cell_type": "code",
      "source": [
        "# iterate trought the dataloader\n",
        "for images, lables in train_data:\n",
        "  print(f'images \"{type(images)}\" shape: {images.shape}\\t,lables \"{type(lables)}\" shape: {lables.shape}')\n",
        "  break\n",
        "\n",
        "\n",
        "'''\n",
        "images: [128, 1, 28, 28]:\n",
        "Batch size: 128 images\n",
        "Channels: 1 (grayscale)\n",
        "Height: 28 pixels\n",
        "Width: 28 pixels\n",
        "'''"
      ],
      "metadata": {
        "colab": {
          "base_uri": "https://localhost:8080/",
          "height": 54
        },
        "id": "TZHjflxQy1ep",
        "outputId": "1b6fb727-99b4-438f-ceee-1086da215d5f"
      },
      "execution_count": 7,
      "outputs": [
        {
          "output_type": "stream",
          "name": "stdout",
          "text": [
            "images \"<class 'torch.Tensor'>\" shape: torch.Size([64, 1, 28, 28])\t,lables \"<class 'torch.Tensor'>\" shape: torch.Size([64])\n"
          ]
        },
        {
          "output_type": "execute_result",
          "data": {
            "text/plain": [
              "'\\nimages: [128, 1, 28, 28]:\\nBatch size: 128 images\\nChannels: 1 (grayscale)\\nHeight: 28 pixels\\nWidth: 28 pixels\\n'"
            ],
            "application/vnd.google.colaboratory.intrinsic+json": {
              "type": "string"
            }
          },
          "metadata": {},
          "execution_count": 7
        }
      ]
    },
    {
      "cell_type": "markdown",
      "source": [
        "# Define MLP Architecture"
      ],
      "metadata": {
        "id": "sgEM2YrE4Dd5"
      }
    },
    {
      "cell_type": "code",
      "source": [
        "hidden_sizes = [128, 64, 32]\n",
        "\n",
        "in_features = 28 * 28\n",
        "out_features = 10\n",
        "\n",
        "model = nn.Sequential(\n",
        "    nn.Flatten(),  # images.reshape(-1, 28*28)\n",
        "    nn.Linear(in_features=in_features, out_features=hidden_sizes[0]),\n",
        "    nn.ReLU(),\n",
        "    nn.Linear(in_features=hidden_sizes[0], out_features=hidden_sizes[1]),\n",
        "    nn.Sigmoid(),\n",
        "    nn.Linear(in_features=hidden_sizes[1], out_features=hidden_sizes[2]),\n",
        "    nn.Sigmoid(),\n",
        "    nn.Linear(in_features=hidden_sizes[2], out_features=out_features)\n",
        "    # dont apply softmax becuase we'll use crrosEntropyLoss(it applies itself)\n",
        ")"
      ],
      "metadata": {
        "id": "-XeH0Z5Py1cd"
      },
      "execution_count": 8,
      "outputs": []
    },
    {
      "cell_type": "markdown",
      "source": [
        "# Train MLP"
      ],
      "metadata": {
        "id": "MSw368HX60Ld"
      }
    },
    {
      "cell_type": "code",
      "source": [
        "model = model.to(device)\n",
        "criterion = nn.CrossEntropyLoss()\n",
        "optimizer = torch.optim.Adam(model.parameters(), lr=learning_rate)\n",
        "scheduler = ReduceLROnPlateau(optimizer, mode='min', factor=0.5, patience=2, verbose=True)"
      ],
      "metadata": {
        "colab": {
          "base_uri": "https://localhost:8080/"
        },
        "id": "-_4bDRqH6w70",
        "outputId": "5e5b095e-98b8-4b0f-ed09-cc7f73c1e38b"
      },
      "execution_count": 9,
      "outputs": [
        {
          "output_type": "stream",
          "name": "stderr",
          "text": [
            "/usr/local/lib/python3.10/dist-packages/torch/optim/lr_scheduler.py:28: UserWarning: The verbose parameter is deprecated. Please use get_last_lr() to access the learning rate.\n",
            "  warnings.warn(\"The verbose parameter is deprecated. Please use get_last_lr() \"\n"
          ]
        }
      ]
    },
    {
      "cell_type": "code",
      "source": [
        "num_batches = len(train_data)  # Number of batches in the training DataLoader\n",
        "\n",
        "train_losses = []\n",
        "val_losses = []\n",
        "\n",
        "convergence_threshold = 1e-6\n",
        "best_val_loss = float('inf')\n",
        "patience = 5\n",
        "wait = 0\n",
        "\n",
        "for epoch in range(num_epochs):\n",
        "    model.train()\n",
        "    running_loss = 0.0\n",
        "\n",
        "    for i, (images, labels) in enumerate(train_data):\n",
        "        images, labels = images.to(device), labels.to(device)\n",
        "\n",
        "        # Forward pass\n",
        "        outputs = model(images)\n",
        "\n",
        "        # Compute loss\n",
        "        loss = criterion(outputs, labels)\n",
        "        l2_reg_loss = 0.0\n",
        "        for param in model.parameters():\n",
        "          l2_reg_loss += torch.norm(param)**2\n",
        "        loss += lambda_reg * l2_reg_loss\n",
        "\n",
        "        # Backward pass and optimization\n",
        "        optimizer.zero_grad()\n",
        "        loss.backward()\n",
        "        optimizer.step()\n",
        "\n",
        "        running_loss += loss.item()\n",
        "\n",
        "    # Validation loop\n",
        "    val_loss = 0.0\n",
        "    model.eval()\n",
        "    with torch.no_grad():\n",
        "      for images, labels in validation_data:\n",
        "        images, labels = images.to(device), labels.to(device)\n",
        "\n",
        "        # Forward pass\n",
        "        outputs = model(images)\n",
        "\n",
        "        # Compute loss\n",
        "        loss = criterion(outputs, labels)\n",
        "        val_loss += loss.item()\n",
        "\n",
        "    # check for early stopping\n",
        "    if (val_loss/len(validation_data)) < best_val_loss:\n",
        "      best_val_loss = val_loss/len(validation_data)\n",
        "      wait = 0\n",
        "    else:\n",
        "      if ((val_loss/len(train_data)) - best_val_loss) > 1e-3:\n",
        "        wait += 1\n",
        "      if wait >= patience:\n",
        "        print(f'Early Stopped in epohc{epoch+1}/{num_epochs}')\n",
        "        break\n",
        "\n",
        "    # check for convergence\n",
        "    if epoch > 5:\n",
        "      pre_loss = train_losses[-1]\n",
        "      if np.abs(pre_loss - running_loss) < convergence_threshold:\n",
        "        print(f'Convergence in epoch{epoch}/{num_epochs}')\n",
        "        break\n",
        "\n",
        "    current_lr = optimizer.param_groups[0]['lr']\n",
        "\n",
        "    print(f'Epoch {epoch+1}/{num_epochs}: Training Loss: {running_loss/len(train_data):.4f}, Validation Loss: {val_loss/len(validation_data):.4f}, lr:{current_lr}')\n",
        "    train_losses.append(running_loss)\n",
        "    val_losses.append(val_loss)\n",
        "\n",
        "    # Update the learning rate\n",
        "    scheduler.step(running_loss/len(train_data))\n",
        "\n",
        "print(\"Training finished\")"
      ],
      "metadata": {
        "colab": {
          "base_uri": "https://localhost:8080/"
        },
        "collapsed": true,
        "id": "2o-nnjBf7fLh",
        "outputId": "68623af6-ff20-4b6e-ec07-57554dcd05ca"
      },
      "execution_count": 10,
      "outputs": [
        {
          "output_type": "stream",
          "name": "stdout",
          "text": [
            "Epoch 1/150: Training Loss: 0.9938, Validation Loss: 0.3365, lr:0.001\n",
            "Epoch 2/150: Training Loss: 0.3020, Validation Loss: 0.1800, lr:0.001\n",
            "Epoch 3/150: Training Loss: 0.2179, Validation Loss: 0.1479, lr:0.001\n",
            "Epoch 4/150: Training Loss: 0.1855, Validation Loss: 0.1246, lr:0.001\n",
            "Epoch 5/150: Training Loss: 0.1661, Validation Loss: 0.1127, lr:0.001\n",
            "Epoch 6/150: Training Loss: 0.1537, Validation Loss: 0.1079, lr:0.001\n",
            "Epoch 7/150: Training Loss: 0.1442, Validation Loss: 0.1026, lr:0.001\n",
            "Epoch 8/150: Training Loss: 0.1374, Validation Loss: 0.1007, lr:0.001\n",
            "Epoch 9/150: Training Loss: 0.1314, Validation Loss: 0.1002, lr:0.001\n",
            "Epoch 10/150: Training Loss: 0.1283, Validation Loss: 0.0978, lr:0.001\n",
            "Epoch 11/150: Training Loss: 0.1272, Validation Loss: 0.0884, lr:0.001\n",
            "Epoch 12/150: Training Loss: 0.1212, Validation Loss: 0.0948, lr:0.001\n",
            "Epoch 13/150: Training Loss: 0.1201, Validation Loss: 0.0902, lr:0.001\n",
            "Epoch 14/150: Training Loss: 0.1202, Validation Loss: 0.0997, lr:0.001\n",
            "Epoch 15/150: Training Loss: 0.1168, Validation Loss: 0.0917, lr:0.001\n",
            "Epoch 16/150: Training Loss: 0.1156, Validation Loss: 0.0876, lr:0.001\n",
            "Epoch 17/150: Training Loss: 0.1140, Validation Loss: 0.0887, lr:0.001\n",
            "Epoch 18/150: Training Loss: 0.1143, Validation Loss: 0.0883, lr:0.001\n",
            "Epoch 19/150: Training Loss: 0.1135, Validation Loss: 0.0875, lr:0.001\n",
            "Epoch 20/150: Training Loss: 0.1117, Validation Loss: 0.0908, lr:0.001\n",
            "Epoch 21/150: Training Loss: 0.1113, Validation Loss: 0.0881, lr:0.001\n",
            "Epoch 22/150: Training Loss: 0.1107, Validation Loss: 0.0869, lr:0.001\n",
            "Epoch 23/150: Training Loss: 0.1093, Validation Loss: 0.0938, lr:0.001\n",
            "Epoch 24/150: Training Loss: 0.1105, Validation Loss: 0.0909, lr:0.001\n",
            "Epoch 25/150: Training Loss: 0.1095, Validation Loss: 0.0889, lr:0.001\n",
            "Epoch 26/150: Training Loss: 0.1096, Validation Loss: 0.0880, lr:0.001\n",
            "Epoch 27/150: Training Loss: 0.0982, Validation Loss: 0.0754, lr:0.0005\n",
            "Epoch 28/150: Training Loss: 0.0950, Validation Loss: 0.0773, lr:0.0005\n",
            "Epoch 29/150: Training Loss: 0.0946, Validation Loss: 0.0757, lr:0.0005\n",
            "Epoch 30/150: Training Loss: 0.0942, Validation Loss: 0.0786, lr:0.0005\n",
            "Epoch 31/150: Training Loss: 0.0940, Validation Loss: 0.0786, lr:0.0005\n",
            "Epoch 32/150: Training Loss: 0.0937, Validation Loss: 0.0774, lr:0.0005\n",
            "Epoch 33/150: Training Loss: 0.0929, Validation Loss: 0.0765, lr:0.0005\n",
            "Epoch 34/150: Training Loss: 0.0932, Validation Loss: 0.0761, lr:0.0005\n",
            "Epoch 35/150: Training Loss: 0.0926, Validation Loss: 0.0803, lr:0.0005\n",
            "Epoch 36/150: Training Loss: 0.0930, Validation Loss: 0.0783, lr:0.0005\n",
            "Epoch 37/150: Training Loss: 0.0916, Validation Loss: 0.0792, lr:0.0005\n",
            "Epoch 38/150: Training Loss: 0.0914, Validation Loss: 0.0806, lr:0.0005\n",
            "Epoch 39/150: Training Loss: 0.0914, Validation Loss: 0.0756, lr:0.0005\n",
            "Epoch 40/150: Training Loss: 0.0910, Validation Loss: 0.0797, lr:0.0005\n",
            "Epoch 41/150: Training Loss: 0.0920, Validation Loss: 0.0778, lr:0.0005\n",
            "Epoch 42/150: Training Loss: 0.0908, Validation Loss: 0.0759, lr:0.0005\n",
            "Epoch 43/150: Training Loss: 0.0902, Validation Loss: 0.0758, lr:0.0005\n",
            "Epoch 44/150: Training Loss: 0.0903, Validation Loss: 0.0800, lr:0.0005\n",
            "Epoch 45/150: Training Loss: 0.0906, Validation Loss: 0.0794, lr:0.0005\n",
            "Epoch 46/150: Training Loss: 0.0902, Validation Loss: 0.0777, lr:0.0005\n",
            "Epoch 47/150: Training Loss: 0.0906, Validation Loss: 0.0751, lr:0.0005\n",
            "Epoch 48/150: Training Loss: 0.0904, Validation Loss: 0.0774, lr:0.0005\n",
            "Epoch 49/150: Training Loss: 0.0895, Validation Loss: 0.0755, lr:0.0005\n",
            "Epoch 50/150: Training Loss: 0.0898, Validation Loss: 0.0768, lr:0.0005\n",
            "Epoch 51/150: Training Loss: 0.0904, Validation Loss: 0.0778, lr:0.0005\n",
            "Epoch 52/150: Training Loss: 0.0893, Validation Loss: 0.0769, lr:0.0005\n",
            "Epoch 53/150: Training Loss: 0.0901, Validation Loss: 0.0761, lr:0.0005\n",
            "Epoch 54/150: Training Loss: 0.0893, Validation Loss: 0.0769, lr:0.0005\n",
            "Epoch 55/150: Training Loss: 0.0892, Validation Loss: 0.0757, lr:0.0005\n",
            "Epoch 56/150: Training Loss: 0.0888, Validation Loss: 0.0840, lr:0.0005\n",
            "Epoch 57/150: Training Loss: 0.0898, Validation Loss: 0.0745, lr:0.0005\n",
            "Epoch 58/150: Training Loss: 0.0884, Validation Loss: 0.0773, lr:0.0005\n",
            "Epoch 59/150: Training Loss: 0.0890, Validation Loss: 0.0729, lr:0.0005\n",
            "Epoch 60/150: Training Loss: 0.0893, Validation Loss: 0.0765, lr:0.0005\n",
            "Epoch 61/150: Training Loss: 0.0888, Validation Loss: 0.0748, lr:0.0005\n",
            "Epoch 62/150: Training Loss: 0.0847, Validation Loss: 0.0707, lr:0.00025\n",
            "Epoch 63/150: Training Loss: 0.0837, Validation Loss: 0.0711, lr:0.00025\n",
            "Epoch 64/150: Training Loss: 0.0836, Validation Loss: 0.0712, lr:0.00025\n",
            "Epoch 65/150: Training Loss: 0.0840, Validation Loss: 0.0723, lr:0.00025\n",
            "Epoch 66/150: Training Loss: 0.0838, Validation Loss: 0.0718, lr:0.00025\n",
            "Epoch 67/150: Training Loss: 0.0839, Validation Loss: 0.0728, lr:0.00025\n",
            "Epoch 68/150: Training Loss: 0.0818, Validation Loss: 0.0705, lr:0.000125\n",
            "Epoch 69/150: Training Loss: 0.0816, Validation Loss: 0.0710, lr:0.000125\n",
            "Epoch 70/150: Training Loss: 0.0816, Validation Loss: 0.0705, lr:0.000125\n",
            "Epoch 71/150: Training Loss: 0.0816, Validation Loss: 0.0705, lr:0.000125\n",
            "Epoch 72/150: Training Loss: 0.0815, Validation Loss: 0.0715, lr:0.000125\n",
            "Epoch 73/150: Training Loss: 0.0815, Validation Loss: 0.0705, lr:0.000125\n",
            "Epoch 74/150: Training Loss: 0.0813, Validation Loss: 0.0710, lr:0.000125\n",
            "Epoch 75/150: Training Loss: 0.0814, Validation Loss: 0.0706, lr:0.000125\n",
            "Epoch 76/150: Training Loss: 0.0813, Validation Loss: 0.0721, lr:0.000125\n",
            "Epoch 77/150: Training Loss: 0.0812, Validation Loss: 0.0706, lr:0.000125\n",
            "Epoch 78/150: Training Loss: 0.0812, Validation Loss: 0.0715, lr:0.000125\n",
            "Epoch 79/150: Training Loss: 0.0811, Validation Loss: 0.0724, lr:0.000125\n",
            "Epoch 80/150: Training Loss: 0.0811, Validation Loss: 0.0712, lr:0.000125\n",
            "Epoch 81/150: Training Loss: 0.0810, Validation Loss: 0.0718, lr:0.000125\n",
            "Epoch 82/150: Training Loss: 0.0810, Validation Loss: 0.0722, lr:0.000125\n",
            "Epoch 83/150: Training Loss: 0.0809, Validation Loss: 0.0728, lr:0.000125\n",
            "Epoch 84/150: Training Loss: 0.0808, Validation Loss: 0.0702, lr:0.000125\n",
            "Epoch 85/150: Training Loss: 0.0808, Validation Loss: 0.0699, lr:0.000125\n",
            "Epoch 86/150: Training Loss: 0.0808, Validation Loss: 0.0712, lr:0.000125\n",
            "Epoch 87/150: Training Loss: 0.0808, Validation Loss: 0.0704, lr:0.000125\n",
            "Epoch 88/150: Training Loss: 0.0808, Validation Loss: 0.0707, lr:0.000125\n",
            "Epoch 89/150: Training Loss: 0.0807, Validation Loss: 0.0710, lr:0.000125\n",
            "Epoch 90/150: Training Loss: 0.0807, Validation Loss: 0.0709, lr:0.000125\n",
            "Epoch 91/150: Training Loss: 0.0806, Validation Loss: 0.0713, lr:0.000125\n",
            "Epoch 92/150: Training Loss: 0.0806, Validation Loss: 0.0719, lr:0.000125\n",
            "Epoch 93/150: Training Loss: 0.0806, Validation Loss: 0.0711, lr:0.000125\n",
            "Epoch 94/150: Training Loss: 0.0805, Validation Loss: 0.0725, lr:0.000125\n",
            "Epoch 95/150: Training Loss: 0.0806, Validation Loss: 0.0704, lr:0.000125\n",
            "Epoch 96/150: Training Loss: 0.0805, Validation Loss: 0.0713, lr:0.000125\n",
            "Epoch 97/150: Training Loss: 0.0804, Validation Loss: 0.0728, lr:0.000125\n",
            "Epoch 98/150: Training Loss: 0.0804, Validation Loss: 0.0717, lr:0.000125\n",
            "Epoch 99/150: Training Loss: 0.0804, Validation Loss: 0.0719, lr:0.000125\n",
            "Epoch 100/150: Training Loss: 0.0804, Validation Loss: 0.0721, lr:0.000125\n",
            "Epoch 101/150: Training Loss: 0.0804, Validation Loss: 0.0712, lr:0.000125\n",
            "Epoch 102/150: Training Loss: 0.0795, Validation Loss: 0.0710, lr:6.25e-05\n",
            "Epoch 103/150: Training Loss: 0.0794, Validation Loss: 0.0708, lr:6.25e-05\n",
            "Epoch 104/150: Training Loss: 0.0794, Validation Loss: 0.0712, lr:6.25e-05\n",
            "Epoch 105/150: Training Loss: 0.0795, Validation Loss: 0.0713, lr:6.25e-05\n",
            "Epoch 106/150: Training Loss: 0.0795, Validation Loss: 0.0707, lr:6.25e-05\n",
            "Epoch 107/150: Training Loss: 0.0790, Validation Loss: 0.0706, lr:3.125e-05\n",
            "Epoch 108/150: Training Loss: 0.0790, Validation Loss: 0.0706, lr:3.125e-05\n",
            "Epoch 109/150: Training Loss: 0.0790, Validation Loss: 0.0709, lr:3.125e-05\n",
            "Epoch 110/150: Training Loss: 0.0790, Validation Loss: 0.0707, lr:3.125e-05\n",
            "Epoch 111/150: Training Loss: 0.0789, Validation Loss: 0.0706, lr:3.125e-05\n",
            "Epoch 112/150: Training Loss: 0.0789, Validation Loss: 0.0707, lr:3.125e-05\n",
            "Epoch 113/150: Training Loss: 0.0789, Validation Loss: 0.0708, lr:3.125e-05\n",
            "Epoch 114/150: Training Loss: 0.0789, Validation Loss: 0.0710, lr:3.125e-05\n",
            "Epoch 115/150: Training Loss: 0.0789, Validation Loss: 0.0709, lr:3.125e-05\n",
            "Epoch 116/150: Training Loss: 0.0789, Validation Loss: 0.0709, lr:3.125e-05\n",
            "Epoch 117/150: Training Loss: 0.0789, Validation Loss: 0.0711, lr:3.125e-05\n",
            "Epoch 118/150: Training Loss: 0.0789, Validation Loss: 0.0706, lr:3.125e-05\n",
            "Epoch 119/150: Training Loss: 0.0789, Validation Loss: 0.0710, lr:3.125e-05\n",
            "Epoch 120/150: Training Loss: 0.0789, Validation Loss: 0.0707, lr:3.125e-05\n",
            "Epoch 121/150: Training Loss: 0.0789, Validation Loss: 0.0707, lr:3.125e-05\n",
            "Epoch 122/150: Training Loss: 0.0789, Validation Loss: 0.0709, lr:3.125e-05\n",
            "Epoch 123/150: Training Loss: 0.0788, Validation Loss: 0.0707, lr:3.125e-05\n",
            "Epoch 124/150: Training Loss: 0.0788, Validation Loss: 0.0705, lr:3.125e-05\n",
            "Epoch 125/150: Training Loss: 0.0788, Validation Loss: 0.0707, lr:3.125e-05\n",
            "Epoch 126/150: Training Loss: 0.0788, Validation Loss: 0.0710, lr:3.125e-05\n",
            "Epoch 127/150: Training Loss: 0.0788, Validation Loss: 0.0708, lr:3.125e-05\n",
            "Epoch 128/150: Training Loss: 0.0788, Validation Loss: 0.0712, lr:3.125e-05\n",
            "Epoch 129/150: Training Loss: 0.0788, Validation Loss: 0.0708, lr:3.125e-05\n",
            "Epoch 130/150: Training Loss: 0.0788, Validation Loss: 0.0709, lr:3.125e-05\n",
            "Epoch 131/150: Training Loss: 0.0788, Validation Loss: 0.0707, lr:3.125e-05\n",
            "Epoch 132/150: Training Loss: 0.0788, Validation Loss: 0.0707, lr:3.125e-05\n",
            "Epoch 133/150: Training Loss: 0.0788, Validation Loss: 0.0709, lr:3.125e-05\n",
            "Epoch 134/150: Training Loss: 0.0786, Validation Loss: 0.0708, lr:1.5625e-05\n",
            "Epoch 135/150: Training Loss: 0.0785, Validation Loss: 0.0709, lr:1.5625e-05\n",
            "Epoch 136/150: Training Loss: 0.0785, Validation Loss: 0.0708, lr:1.5625e-05\n",
            "Epoch 137/150: Training Loss: 0.0785, Validation Loss: 0.0711, lr:1.5625e-05\n",
            "Epoch 138/150: Training Loss: 0.0785, Validation Loss: 0.0708, lr:1.5625e-05\n",
            "Epoch 139/150: Training Loss: 0.0785, Validation Loss: 0.0707, lr:1.5625e-05\n",
            "Epoch 140/150: Training Loss: 0.0785, Validation Loss: 0.0709, lr:1.5625e-05\n",
            "Epoch 141/150: Training Loss: 0.0785, Validation Loss: 0.0708, lr:1.5625e-05\n",
            "Epoch 142/150: Training Loss: 0.0785, Validation Loss: 0.0710, lr:1.5625e-05\n",
            "Epoch 143/150: Training Loss: 0.0784, Validation Loss: 0.0708, lr:7.8125e-06\n",
            "Epoch 144/150: Training Loss: 0.0784, Validation Loss: 0.0708, lr:7.8125e-06\n",
            "Epoch 145/150: Training Loss: 0.0784, Validation Loss: 0.0707, lr:7.8125e-06\n",
            "Epoch 146/150: Training Loss: 0.0784, Validation Loss: 0.0708, lr:7.8125e-06\n",
            "Epoch 147/150: Training Loss: 0.0784, Validation Loss: 0.0708, lr:7.8125e-06\n",
            "Epoch 148/150: Training Loss: 0.0784, Validation Loss: 0.0708, lr:7.8125e-06\n",
            "Epoch 149/150: Training Loss: 0.0784, Validation Loss: 0.0709, lr:7.8125e-06\n",
            "Epoch 150/150: Training Loss: 0.0784, Validation Loss: 0.0707, lr:7.8125e-06\n",
            "Training finished\n"
          ]
        }
      ]
    },
    {
      "cell_type": "code",
      "source": [
        "# Plot the training and validation losses with a logarithmic scale\n",
        "plt.plot(train_losses, label='Training Loss')\n",
        "plt.plot(val_losses, label='Validation Loss')\n",
        "plt.xlabel('Epoch')\n",
        "plt.ylabel('Loss')\n",
        "plt.title('Training and Validation Losses')\n",
        "plt.yscale('log')\n",
        "plt.legend()\n",
        "plt.show()"
      ],
      "metadata": {
        "colab": {
          "base_uri": "https://localhost:8080/",
          "height": 472
        },
        "id": "yXhjJIKBNCjy",
        "outputId": "da6cb2b6-04e2-4581-eb36-b4ed04c1b43f"
      },
      "execution_count": 11,
      "outputs": [
        {
          "output_type": "display_data",
          "data": {
            "text/plain": [
              "<Figure size 640x480 with 1 Axes>"
            ],
            "image/png": "[encoded data removed]"
          },
          "metadata": {}
        }
      ]
    },
    {
      "cell_type": "code",
      "source": [
        "# Test and Evaluate Model\n",
        "\n",
        "model.eval()\n",
        "\n",
        "true_labels = []\n",
        "predicted_labels = []\n",
        "total = 0\n",
        "correct = 0\n",
        "\n",
        "# Disable gradient calculation for evaluation\n",
        "with torch.no_grad():\n",
        "    for images, lables in test_data:\n",
        "        images, lables = images.to(device), lables.to(device)\n",
        "\n",
        "        # Forward pass\n",
        "        outputs = model(images)\n",
        "\n",
        "        # Get the predicted class\n",
        "        _, predicted = torch.max(outputs, dim=1)\n",
        "\n",
        "        total += lables.shape[0]\n",
        "        correct += (predicted == lables).sum().item()\n",
        "\n",
        "        true_labels.extend(lables.cpu().numpy())\n",
        "        predicted_labels.extend(predicted.cpu().numpy())\n",
        "\n",
        "print(f'Accuracy of the model on the test images: {100 * correct / total} %')"
      ],
      "metadata": {
        "colab": {
          "base_uri": "https://localhost:8080/"
        },
        "id": "20AzGg6QCLJW",
        "outputId": "02b55626-2bdc-4748-d84f-2778e9cb5aa3"
      },
      "execution_count": 12,
      "outputs": [
        {
          "output_type": "stream",
          "name": "stdout",
          "text": [
            "Accuracy of the model on the test images: 98.01 %\n"
          ]
        }
      ]
    },
    {
      "cell_type": "code",
      "source": [
        "# Calculate the confusion matrix\n",
        "cm = confusion_matrix(true_labels, predicted_labels)\n",
        "\n",
        "# Plot the confusion matrix\n",
        "plt.figure(figsize=(10, 8))\n",
        "sns.heatmap(cm, annot=True, fmt='d', cmap='Blues', xticklabels=range(10), yticklabels=range(10))\n",
        "plt.xlabel('Predicted')\n",
        "plt.ylabel('True')\n",
        "plt.title('Confusion Matrix')\n",
        "plt.show()"
      ],
      "metadata": {
        "colab": {
          "base_uri": "https://localhost:8080/",
          "height": 718
        },
        "id": "gRu6c24fCsCt",
        "outputId": "f809c772-d086-42b7-f445-0b4a46791f26"
      },
      "execution_count": 13,
      "outputs": [
        {
          "output_type": "display_data",
          "data": {
            "text/plain": [
              "<Figure size 1000x800 with 2 Axes>"
            ],
            "image/png": "[encoded data removed]"
          },
          "metadata": {}
        }
      ]
    }
  ]
}