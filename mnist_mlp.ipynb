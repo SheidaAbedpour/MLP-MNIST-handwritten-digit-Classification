{
  "nbformat": 4,
  "nbformat_minor": 0,
  "metadata": {
    "colab": {
      "provenance": []
    },
    "kernelspec": {
      "name": "python3",
      "display_name": "Python 3"
    },
    "language_info": {
      "name": "python"
    }
  },
  "cells": [
    {
      "cell_type": "code",
      "execution_count": 82,
      "metadata": {
        "id": "2Ty1a_FsSZ3o"
      },
      "outputs": [],
      "source": [
        "import numpy as np\n",
        "import pandas as pd\n",
        "\n",
        "import tensorflow as tf\n",
        "from tensorflow.keras.utils import normalize\n",
        "\n",
        "import matplotlib.pyplot as plt\n"
      ]
    },
    {
      "cell_type": "markdown",
      "source": [
        "# Load Data"
      ],
      "metadata": {
        "id": "_BX0W7V2E88r"
      }
    },
    {
      "cell_type": "code",
      "source": [
        "mnist = tf.keras.datasets.mnist"
      ],
      "metadata": {
        "id": "JlqTpivAW06C"
      },
      "execution_count": 83,
      "outputs": []
    },
    {
      "cell_type": "code",
      "source": [
        "(x_train, y_train), (x_test, y_test) = mnist.load_data()"
      ],
      "metadata": {
        "id": "8K73odPsW072"
      },
      "execution_count": 84,
      "outputs": []
    },
    {
      "cell_type": "markdown",
      "source": [
        "# Reshape"
      ],
      "metadata": {
        "id": "ImCtyX8EE5Uo"
      }
    },
    {
      "cell_type": "code",
      "source": [
        "# reshape (28, 28) into (28x28,1) shape.\n",
        "# It means we flatten row x column shape to an array having 28x28 (756) items.\n",
        "\n",
        "n_samples = x_train.shape[0]\n",
        "axis1 = x_train.shape[1]\n",
        "axis2 = x_train.shape[2]\n",
        "\n",
        "x_train = x_train.reshape(n_samples, axis1 * axis2)\n",
        "\n",
        "\n",
        "n_samples = x_test.shape[0]\n",
        "axis1 = x_test.shape[1]\n",
        "axis2 = x_test.shape[2]\n",
        "\n",
        "x_test = x_test.reshape(n_samples, axis1 * axis2)\n",
        "\n",
        "\n",
        "print(x_train.shape)\n",
        "print(x_test.shape)"
      ],
      "metadata": {
        "colab": {
          "base_uri": "https://localhost:8080/"
        },
        "id": "GxYX0oU1mOnr",
        "outputId": "be5b37e3-1d6e-412c-9f46-7c5f63339c03"
      },
      "execution_count": 85,
      "outputs": [
        {
          "output_type": "stream",
          "name": "stdout",
          "text": [
            "(60000, 784)\n",
            "(10000, 784)\n"
          ]
        }
      ]
    },
    {
      "cell_type": "markdown",
      "source": [
        "# Noramlize Data"
      ],
      "metadata": {
        "id": "5VfJV3wwC1k1"
      }
    },
    {
      "cell_type": "code",
      "source": [
        "x_train = x_train.astype('float32')\n",
        "x_test = x_test.astype('float32')\n",
        "\n",
        "gray_scale = 255.0\n",
        "\n",
        "x_train = x_train / gray_scale\n",
        "x_test = x_test / gray_scale"
      ],
      "metadata": {
        "id": "1Wu_KMq_mOyg"
      },
      "execution_count": 88,
      "outputs": []
    },
    {
      "cell_type": "code",
      "source": [],
      "metadata": {
        "id": "OaLZISkWFBpt"
      },
      "execution_count": null,
      "outputs": []
    },
    {
      "cell_type": "code",
      "source": [],
      "metadata": {
        "id": "GRRutPvxFBrs"
      },
      "execution_count": null,
      "outputs": []
    },
    {
      "cell_type": "code",
      "source": [],
      "metadata": {
        "id": "Xepgko57FBt8"
      },
      "execution_count": null,
      "outputs": []
    },
    {
      "cell_type": "code",
      "source": [],
      "metadata": {
        "id": "EwNnNDaxFBxa"
      },
      "execution_count": null,
      "outputs": []
    }
  ]
}